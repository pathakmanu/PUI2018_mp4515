{
 "cells": [
  {
   "cell_type": "markdown",
   "metadata": {},
   "source": [
    "# Assignment 2\n",
    "\n",
    "## Idea\n",
    "\n",
    "### Younger persons tend to ride bikes longer than older persons\n",
    "\n",
    "## Null hypothesis\n",
    "\n",
    "### The average trip duration for a month for persons from age group < 25 years is less than or same as the average trip duration for persons > 25 years of age\n",
    "\n",
    "\n",
    "We download the CitiBike data for testing the idea"
   ]
  },
  {
   "cell_type": "code",
   "execution_count": 84,
   "metadata": {},
   "outputs": [
    {
     "name": "stdout",
     "output_type": "stream",
     "text": [
      "Populating the interactive namespace from numpy and matplotlib\n"
     ]
    }
   ],
   "source": [
    "from __future__  import print_function, division\n",
    "import pylab as pl\n",
    "import pandas as pd\n",
    "import numpy as np\n",
    "import os\n",
    "\n",
    "%pylab inline\n",
    "\n",
    "if os.getenv ('PUIDATA') is None:\n",
    "    print (\"Must set env variable PUIdata\")\n",
    "if os.getenv ('PUIDATA') is None:\n",
    "    print (\"Must set env variable PUIdata\")\n",
    "\n",
    "import os\n",
    "import json\n",
    "#s = json.load( open(os.getenv('PUI2016') + \"/fbb_matplotlibrc.json\") )\n",
    "#pl.rcParams.update(s)\n",
    "\n"
   ]
  },
  {
   "cell_type": "code",
   "execution_count": 85,
   "metadata": {},
   "outputs": [],
   "source": [
    "def getCitiBikeCSV(datestring):\n",
    "    print (\"Downloading\", datestring)\n",
    "    ### First I will heck that it is not already there\n",
    "    if not os.path.isfile(os.getenv(\"PUIDATA\") + \"/\" + datestring + \"-citibike-tripdata.csv\"):\n",
    "        if os.path.isfile(datestring + \"-citibike-tripdata.csv\"):\n",
    "            # if in the current dir just move it\n",
    "            if os.system(\"mv \" + datestring + \"-citibike-tripdata.csv \" + os.getenv(\"PUIDATA\")):\n",
    "                print (\"Error moving file!, Please check!\")\n",
    "        #otherwise start looking for the zip file\n",
    "        else:\n",
    "            if not os.path.isfile(os.getenv(\"PUIDATA\") + \"/\" + datestring + \"-citibike-tripdata.zip\"):\n",
    "                if not os.path.isfile(datestring + \"-citibike-tripdata.zip\"):\n",
    "                    os.system(\"curl -O https://s3.amazonaws.com/tripdata/\" + datestring + \"-citibike-tripdata.zip\")\n",
    "                ###  To move it I use the os.system() functions to run bash commands with arguments\n",
    "                os.system(\"mv \" + datestring + \"-citibike-tripdata.zip \" + os.getenv(\"PUIDATA\"))\n",
    "            ### unzip the csv \n",
    "            os.system(\"unzip \" + os.getenv(\"PUIDATA\") + \"/\" + datestring + \"-citibike-tripdata.zip\")\n",
    "            ## NOTE: old csv citibike data had a different name structure. \n",
    "            if '2014' in datestring:\n",
    "                os.system(\"mv \" + datestring[:4] + '-' +  datestring[4:] + \n",
    "                          \"\\ -\\ Citi\\ Bike\\ trip\\ data.csv \" + datestring + \"-citibike-tripdata.csv\")\n",
    "            os.system(\"mv \" + datestring + \"-citibike-tripdata.csv \" + os.getenv(\"PUIDATA\"))\n",
    "    ### One final check:\n",
    "    if not os.path.isfile(os.getenv(\"PUIDATA\") + \"/\" + datestring + \"-citibike-tripdata.csv\"):\n",
    "        print (\"WARNING!!! something is wrong: the file is not there!\")\n",
    "\n",
    "    else:\n",
    "        print (\"file in place, you can continue\")"
   ]
  },
  {
   "cell_type": "markdown",
   "metadata": {},
   "source": [
    "### Acquiring the bike data for 10/2016 and moving it to PUIdata directory"
   ]
  },
  {
   "cell_type": "code",
   "execution_count": 86,
   "metadata": {},
   "outputs": [
    {
     "name": "stdout",
     "output_type": "stream",
     "text": [
      "Downloading 201610\n",
      "file in place, you can continue\n"
     ]
    }
   ],
   "source": [
    "datestring = '201610'\n",
    "getCitiBikeCSV(datestring)"
   ]
  },
  {
   "cell_type": "code",
   "execution_count": null,
   "metadata": {},
   "outputs": [],
   "source": []
  },
  {
   "cell_type": "code",
   "execution_count": null,
   "metadata": {},
   "outputs": [],
   "source": []
  },
  {
   "cell_type": "code",
   "execution_count": 87,
   "metadata": {},
   "outputs": [],
   "source": [
    "#dates = ['2013-07', '2013-08', '2013-09', '2013-10', '2013-11', '2013-12', '2014-01', '2014-02']"
   ]
  },
  {
   "cell_type": "code",
   "execution_count": 88,
   "metadata": {},
   "outputs": [],
   "source": [
    "df = pd.read_csv(os.getenv(\"PUIDATA\") + \"/\" + datestring + '-citibike-tripdata.csv')"
   ]
  },
  {
   "cell_type": "code",
   "execution_count": 89,
   "metadata": {},
   "outputs": [
    {
     "data": {
      "text/plain": [
       "(1573872, 15)"
      ]
     },
     "execution_count": 89,
     "metadata": {},
     "output_type": "execute_result"
    }
   ],
   "source": [
    "df.shape"
   ]
  },
  {
   "cell_type": "code",
   "execution_count": null,
   "metadata": {},
   "outputs": [],
   "source": []
  },
  {
   "cell_type": "code",
   "execution_count": 90,
   "metadata": {},
   "outputs": [
    {
     "data": {
      "text/html": [
       "<div>\n",
       "<table border=\"1\" class=\"dataframe\">\n",
       "  <thead>\n",
       "    <tr style=\"text-align: right;\">\n",
       "      <th></th>\n",
       "      <th>Trip Duration</th>\n",
       "      <th>Start Time</th>\n",
       "      <th>Stop Time</th>\n",
       "      <th>Start Station ID</th>\n",
       "      <th>Start Station Name</th>\n",
       "      <th>Start Station Latitude</th>\n",
       "      <th>Start Station Longitude</th>\n",
       "      <th>End Station ID</th>\n",
       "      <th>End Station Name</th>\n",
       "      <th>End Station Latitude</th>\n",
       "      <th>End Station Longitude</th>\n",
       "      <th>Bike ID</th>\n",
       "      <th>User Type</th>\n",
       "      <th>Birth Year</th>\n",
       "      <th>Gender</th>\n",
       "    </tr>\n",
       "  </thead>\n",
       "  <tbody>\n",
       "    <tr>\n",
       "      <th>0</th>\n",
       "      <td>328</td>\n",
       "      <td>2016-10-01 00:00:07</td>\n",
       "      <td>2016-10-01 00:05:35</td>\n",
       "      <td>471</td>\n",
       "      <td>Grand St &amp; Havemeyer St</td>\n",
       "      <td>40.712868</td>\n",
       "      <td>-73.956981</td>\n",
       "      <td>3077</td>\n",
       "      <td>Stagg St &amp; Union Ave</td>\n",
       "      <td>40.708771</td>\n",
       "      <td>-73.950953</td>\n",
       "      <td>25254</td>\n",
       "      <td>Subscriber</td>\n",
       "      <td>1992.0</td>\n",
       "      <td>1</td>\n",
       "    </tr>\n",
       "    <tr>\n",
       "      <th>1</th>\n",
       "      <td>398</td>\n",
       "      <td>2016-10-01 00:00:11</td>\n",
       "      <td>2016-10-01 00:06:49</td>\n",
       "      <td>3147</td>\n",
       "      <td>E 85 St &amp; 3 Ave</td>\n",
       "      <td>40.778012</td>\n",
       "      <td>-73.954071</td>\n",
       "      <td>3140</td>\n",
       "      <td>1 Ave &amp; E 78 St</td>\n",
       "      <td>40.771404</td>\n",
       "      <td>-73.953517</td>\n",
       "      <td>17810</td>\n",
       "      <td>Subscriber</td>\n",
       "      <td>1988.0</td>\n",
       "      <td>2</td>\n",
       "    </tr>\n",
       "    <tr>\n",
       "      <th>2</th>\n",
       "      <td>430</td>\n",
       "      <td>2016-10-01 00:00:14</td>\n",
       "      <td>2016-10-01 00:07:25</td>\n",
       "      <td>345</td>\n",
       "      <td>W 13 St &amp; 6 Ave</td>\n",
       "      <td>40.736494</td>\n",
       "      <td>-73.997044</td>\n",
       "      <td>470</td>\n",
       "      <td>W 20 St &amp; 8 Ave</td>\n",
       "      <td>40.743453</td>\n",
       "      <td>-74.000040</td>\n",
       "      <td>20940</td>\n",
       "      <td>Subscriber</td>\n",
       "      <td>1965.0</td>\n",
       "      <td>1</td>\n",
       "    </tr>\n",
       "    <tr>\n",
       "      <th>3</th>\n",
       "      <td>351</td>\n",
       "      <td>2016-10-01 00:00:21</td>\n",
       "      <td>2016-10-01 00:06:12</td>\n",
       "      <td>3307</td>\n",
       "      <td>West End Ave &amp; W 94 St</td>\n",
       "      <td>40.794165</td>\n",
       "      <td>-73.974124</td>\n",
       "      <td>3357</td>\n",
       "      <td>W 106 St &amp; Amsterdam Ave</td>\n",
       "      <td>40.800836</td>\n",
       "      <td>-73.966449</td>\n",
       "      <td>19086</td>\n",
       "      <td>Subscriber</td>\n",
       "      <td>1993.0</td>\n",
       "      <td>1</td>\n",
       "    </tr>\n",
       "    <tr>\n",
       "      <th>4</th>\n",
       "      <td>2693</td>\n",
       "      <td>2016-10-01 00:00:21</td>\n",
       "      <td>2016-10-01 00:45:15</td>\n",
       "      <td>3428</td>\n",
       "      <td>8 Ave &amp; W 16 St</td>\n",
       "      <td>40.740983</td>\n",
       "      <td>-74.001702</td>\n",
       "      <td>3323</td>\n",
       "      <td>W 106 St &amp; Central Park West</td>\n",
       "      <td>40.798186</td>\n",
       "      <td>-73.960591</td>\n",
       "      <td>26502</td>\n",
       "      <td>Subscriber</td>\n",
       "      <td>1991.0</td>\n",
       "      <td>1</td>\n",
       "    </tr>\n",
       "  </tbody>\n",
       "</table>\n",
       "</div>"
      ],
      "text/plain": [
       "   Trip Duration           Start Time            Stop Time  Start Station ID  \\\n",
       "0            328  2016-10-01 00:00:07  2016-10-01 00:05:35               471   \n",
       "1            398  2016-10-01 00:00:11  2016-10-01 00:06:49              3147   \n",
       "2            430  2016-10-01 00:00:14  2016-10-01 00:07:25               345   \n",
       "3            351  2016-10-01 00:00:21  2016-10-01 00:06:12              3307   \n",
       "4           2693  2016-10-01 00:00:21  2016-10-01 00:45:15              3428   \n",
       "\n",
       "        Start Station Name  Start Station Latitude  Start Station Longitude  \\\n",
       "0  Grand St & Havemeyer St               40.712868               -73.956981   \n",
       "1          E 85 St & 3 Ave               40.778012               -73.954071   \n",
       "2          W 13 St & 6 Ave               40.736494               -73.997044   \n",
       "3   West End Ave & W 94 St               40.794165               -73.974124   \n",
       "4          8 Ave & W 16 St               40.740983               -74.001702   \n",
       "\n",
       "   End Station ID              End Station Name  End Station Latitude  \\\n",
       "0            3077          Stagg St & Union Ave             40.708771   \n",
       "1            3140               1 Ave & E 78 St             40.771404   \n",
       "2             470               W 20 St & 8 Ave             40.743453   \n",
       "3            3357      W 106 St & Amsterdam Ave             40.800836   \n",
       "4            3323  W 106 St & Central Park West             40.798186   \n",
       "\n",
       "   End Station Longitude  Bike ID   User Type  Birth Year  Gender  \n",
       "0             -73.950953    25254  Subscriber      1992.0       1  \n",
       "1             -73.953517    17810  Subscriber      1988.0       2  \n",
       "2             -74.000040    20940  Subscriber      1965.0       1  \n",
       "3             -73.966449    19086  Subscriber      1993.0       1  \n",
       "4             -73.960591    26502  Subscriber      1991.0       1  "
      ]
     },
     "execution_count": 90,
     "metadata": {},
     "output_type": "execute_result"
    }
   ],
   "source": [
    "df.head()"
   ]
  },
  {
   "cell_type": "code",
   "execution_count": 91,
   "metadata": {},
   "outputs": [
    {
     "data": {
      "text/plain": [
       "Index([u'Trip Duration', u'Start Time', u'Stop Time', u'Start Station ID',\n",
       "       u'Start Station Name', u'Start Station Latitude',\n",
       "       u'Start Station Longitude', u'End Station ID', u'End Station Name',\n",
       "       u'End Station Latitude', u'End Station Longitude', u'Bike ID',\n",
       "       u'User Type', u'Birth Year', u'Gender'],\n",
       "      dtype='object')"
      ]
     },
     "execution_count": 91,
     "metadata": {},
     "output_type": "execute_result"
    }
   ],
   "source": [
    "df.columns"
   ]
  },
  {
   "cell_type": "markdown",
   "metadata": {},
   "source": [
    "### Keeping the columns that will be used to test our hypothesis. Only trip duration, birth year and gender are relevant for this\n"
   ]
  },
  {
   "cell_type": "code",
   "execution_count": 92,
   "metadata": {},
   "outputs": [],
   "source": [
    "df.drop(['Start Time', 'Stop Time', 'Start Station ID',\n",
    "       'Start Station Name', 'Start Station Latitude',\n",
    "       'Start Station Longitude', 'End Station ID', 'End Station Name',\n",
    "       'End Station Latitude', 'End Station Longitude', 'Bike ID', 'User Type'], axis=1, inplace=True)"
   ]
  },
  {
   "cell_type": "code",
   "execution_count": 93,
   "metadata": {},
   "outputs": [
    {
     "data": {
      "text/html": [
       "<div>\n",
       "<table border=\"1\" class=\"dataframe\">\n",
       "  <thead>\n",
       "    <tr style=\"text-align: right;\">\n",
       "      <th></th>\n",
       "      <th>Trip Duration</th>\n",
       "      <th>Birth Year</th>\n",
       "      <th>Gender</th>\n",
       "    </tr>\n",
       "  </thead>\n",
       "  <tbody>\n",
       "    <tr>\n",
       "      <th>0</th>\n",
       "      <td>328</td>\n",
       "      <td>1992.0</td>\n",
       "      <td>1</td>\n",
       "    </tr>\n",
       "    <tr>\n",
       "      <th>1</th>\n",
       "      <td>398</td>\n",
       "      <td>1988.0</td>\n",
       "      <td>2</td>\n",
       "    </tr>\n",
       "    <tr>\n",
       "      <th>2</th>\n",
       "      <td>430</td>\n",
       "      <td>1965.0</td>\n",
       "      <td>1</td>\n",
       "    </tr>\n",
       "    <tr>\n",
       "      <th>3</th>\n",
       "      <td>351</td>\n",
       "      <td>1993.0</td>\n",
       "      <td>1</td>\n",
       "    </tr>\n",
       "    <tr>\n",
       "      <th>4</th>\n",
       "      <td>2693</td>\n",
       "      <td>1991.0</td>\n",
       "      <td>1</td>\n",
       "    </tr>\n",
       "  </tbody>\n",
       "</table>\n",
       "</div>"
      ],
      "text/plain": [
       "   Trip Duration  Birth Year  Gender\n",
       "0            328      1992.0       1\n",
       "1            398      1988.0       2\n",
       "2            430      1965.0       1\n",
       "3            351      1993.0       1\n",
       "4           2693      1991.0       1"
      ]
     },
     "execution_count": 93,
     "metadata": {},
     "output_type": "execute_result"
    }
   ],
   "source": [
    "df.head()"
   ]
  },
  {
   "cell_type": "code",
   "execution_count": 94,
   "metadata": {},
   "outputs": [
    {
     "data": {
      "text/plain": [
       "1573872"
      ]
     },
     "execution_count": 94,
     "metadata": {},
     "output_type": "execute_result"
    }
   ],
   "source": [
    "len(df)"
   ]
  },
  {
   "cell_type": "markdown",
   "metadata": {},
   "source": [
    "### Dropping all the rows with empty fields in one or more columns\n"
   ]
  },
  {
   "cell_type": "code",
   "execution_count": 95,
   "metadata": {},
   "outputs": [
    {
     "data": {
      "text/plain": [
       "1406424"
      ]
     },
     "execution_count": 95,
     "metadata": {},
     "output_type": "execute_result"
    }
   ],
   "source": [
    "df = df.dropna()\n",
    "len(df)"
   ]
  },
  {
   "cell_type": "markdown",
   "metadata": {},
   "source": [
    "### Taking the observations with the birth year >1966 (above 50 year persons)\n"
   ]
  },
  {
   "cell_type": "code",
   "execution_count": 99,
   "metadata": {},
   "outputs": [
    {
     "data": {
      "text/plain": [
       "1153343"
      ]
     },
     "execution_count": 99,
     "metadata": {},
     "output_type": "execute_result"
    }
   ],
   "source": [
    "df = df[df['Birth Year'] > 1966]\n",
    "len(df)"
   ]
  },
  {
   "cell_type": "markdown",
   "metadata": {},
   "source": [
    "### Checking the number of observations"
   ]
  },
  {
   "cell_type": "code",
   "execution_count": 108,
   "metadata": {},
   "outputs": [
    {
     "name": "stdout",
     "output_type": "stream",
     "text": [
      "Observations with age < 25:  132726\n",
      "Observations with age > 25:  973270\n"
     ]
    }
   ],
   "source": [
    "print(\"Observations with age < 25: \", len(df[df['Birth Year'] > 1991]))\n",
    "df1 = df[df['Birth Year'] < 1991]print(\"Observations with age > 25: \", len(df[df['Birth Year'] < 1991]))"
   ]
  },
  {
   "cell_type": "markdown",
   "metadata": {},
   "source": [
    "Since there are unequal number of observations of the age groups on which we want to test our hypothesis, we should randomly select some observations from the set with greater number of rows\n"
   ]
  },
  {
   "cell_type": "code",
   "execution_count": 114,
   "metadata": {},
   "outputs": [],
   "source": [
    "df0 = df[df['Birth Year'] > 1991]\n",
    "df1 = df[df['Birth Year'] < 1991]\n",
    "df1 = df1.sample(n = 132726)"
   ]
  },
  {
   "cell_type": "code",
   "execution_count": 115,
   "metadata": {},
   "outputs": [
    {
     "data": {
      "text/plain": [
       "132726"
      ]
     },
     "execution_count": 115,
     "metadata": {},
     "output_type": "execute_result"
    }
   ],
   "source": [
    "len(df1)"
   ]
  },
  {
   "cell_type": "code",
   "execution_count": 116,
   "metadata": {},
   "outputs": [],
   "source": [
    "frames = [df0, df1]\n",
    "df = pd.concat(frames)"
   ]
  },
  {
   "cell_type": "code",
   "execution_count": 119,
   "metadata": {},
   "outputs": [],
   "source": [
    "df = df.sample(frac=1).reset_index(drop=True)"
   ]
  },
  {
   "cell_type": "code",
   "execution_count": 120,
   "metadata": {},
   "outputs": [
    {
     "data": {
      "text/html": [
       "<div>\n",
       "<table border=\"1\" class=\"dataframe\">\n",
       "  <thead>\n",
       "    <tr style=\"text-align: right;\">\n",
       "      <th></th>\n",
       "      <th>Trip Duration</th>\n",
       "      <th>Birth Year</th>\n",
       "      <th>Gender</th>\n",
       "    </tr>\n",
       "  </thead>\n",
       "  <tbody>\n",
       "    <tr>\n",
       "      <th>0</th>\n",
       "      <td>509</td>\n",
       "      <td>1997.0</td>\n",
       "      <td>1</td>\n",
       "    </tr>\n",
       "    <tr>\n",
       "      <th>1</th>\n",
       "      <td>821</td>\n",
       "      <td>1993.0</td>\n",
       "      <td>2</td>\n",
       "    </tr>\n",
       "    <tr>\n",
       "      <th>2</th>\n",
       "      <td>563</td>\n",
       "      <td>1992.0</td>\n",
       "      <td>1</td>\n",
       "    </tr>\n",
       "    <tr>\n",
       "      <th>3</th>\n",
       "      <td>275</td>\n",
       "      <td>1979.0</td>\n",
       "      <td>2</td>\n",
       "    </tr>\n",
       "    <tr>\n",
       "      <th>4</th>\n",
       "      <td>909</td>\n",
       "      <td>1971.0</td>\n",
       "      <td>1</td>\n",
       "    </tr>\n",
       "  </tbody>\n",
       "</table>\n",
       "</div>"
      ],
      "text/plain": [
       "   Trip Duration  Birth Year  Gender\n",
       "0            509      1997.0       1\n",
       "1            821      1993.0       2\n",
       "2            563      1992.0       1\n",
       "3            275      1979.0       2\n",
       "4            909      1971.0       1"
      ]
     },
     "execution_count": 120,
     "metadata": {},
     "output_type": "execute_result"
    }
   ],
   "source": [
    "df.head()"
   ]
  },
  {
   "cell_type": "code",
   "execution_count": 129,
   "metadata": {},
   "outputs": [
    {
     "data": {
      "text/plain": [
       "[]"
      ]
     },
     "execution_count": 129,
     "metadata": {},
     "output_type": "execute_result"
    },
    {
     "data": {
      "text/plain": [
       "<matplotlib.figure.Figure at 0x7f71f072f0d0>"
      ]
     },
     "metadata": {},
     "output_type": "display_data"
    },
    {
     "data": {
      "image/png": "[encoded data removed]",
      "text/plain": [
       "<matplotlib.figure.Figure at 0x7f71f1d7a350>"
      ]
     },
     "metadata": {},
     "output_type": "display_data"
    }
   ],
   "source": [
    "plt.figure(figsize=(16,16))\n",
    "df.plot(x = 'Birth Year', y = 'Trip Duration', kind = 'scatter')\n",
    "plt.ylim(0, 1000000)\n",
    "plt.xlabel('Birth year')\n",
    "plt.ylabel('trip duration')\n",
    "plt.title('Plotting trip duration with the ages of people')\n",
    "plt.plot()"
   ]
  },
  {
   "cell_type": "code",
   "execution_count": null,
   "metadata": {},
   "outputs": [],
   "source": []
  }
 ],
 "metadata": {
  "kernelspec": {
   "display_name": "PUI2016_Python2",
   "language": "python",
   "name": "pui2016_python2"
  },
  "language_info": {
   "codemirror_mode": {
    "name": "ipython",
    "version": 2
   },
   "file_extension": ".py",
   "mimetype": "text/x-python",
   "name": "python",
   "nbconvert_exporter": "python",
   "pygments_lexer": "ipython2",
   "version": "2.7.12"
  }
 },
 "nbformat": 4,
 "nbformat_minor": 2
}
